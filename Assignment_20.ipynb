{
 "cells": [
  {
   "cell_type": "code",
   "execution_count": null,
   "metadata": {
    "collapsed": true
   },
   "outputs": [],
   "source": [
    "#Create a dataframe with your name , age , mail id and phone number and add your friends’s information to the same.\n",
    "import pandas as pd\n",
    "data = {'Name':['Tom', 'Jack'],'Age':[28,34],'mail id':['abcd@gmail.com','def@gmail.com'],'phone no':['0123456789','0234568712']}\n",
    "df = pd.DataFrame(data)\n",
    "df.loc[2]=['Amit',24,'ghi23@gmail.com','167892345']\n",
    "print(df)"
   ]
  },
  {
   "cell_type": "code",
   "execution_count": null,
   "metadata": {},
   "outputs": [],
   "source": [
    "#Q.2 - Download the dataset from the link ,\n",
    "#Import the data and print the following :\n",
    "#a.) First 5 rows of Dataframe\n",
    "#b.) First 10 rows of the Dataframe\n",
    "#c.) find basic statistics on the particular dataset.\n",
    "#d.) Find the last 5 rows of the dataframe\n",
    "#e.) Extract the 2nd column and find basic statistics on it\n",
    "\n",
    "df=pd.read_csv('weather.csv')\n",
    "print(df)\n",
    "#a)\n",
    "print(df.head(5))\n",
    "#b)\n",
    "print(df.head(10))\n",
    "#c)\n",
    "print(df['MinTemp'].describe())\n",
    "print(df['MaxTemp'].describe())\n",
    "#d)\n",
    "print(df.tail(5))\n",
    "#e)\n",
    "l=[df['MinTemp'].sum(), # Total sum of the column values\n",
    "df['MinTemp'].mean(), # Mean of the column values\n",
    "df['MinTemp'].median(), # Median of the column values\n",
    "df['MinTemp'].nunique(), # Number of unique entries\n",
    "df['MinTemp'].max(), # Maximum of the column values\n",
    "df['MinTemp'].min()] # Minimum of the column values\n",
    "print(l)"
   ]
  }
 ],
 "metadata": {
  "kernelspec": {
   "display_name": "Python 2",
   "language": "python",
   "name": "python2"
  },
  "language_info": {
   "codemirror_mode": {
    "name": "ipython",
    "version": 2.0
   },
   "file_extension": ".py",
   "mimetype": "text/x-python",
   "name": "python",
   "nbconvert_exporter": "python",
   "pygments_lexer": "ipython2",
   "version": "2.7.6"
  }
 },
 "nbformat": 4,
 "nbformat_minor": 0
}