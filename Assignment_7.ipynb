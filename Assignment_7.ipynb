{
 "cells": [
  {
   "cell_type": "code",
   "execution_count": null,
   "metadata": {
    "collapsed": true
   },
   "outputs": [],
   "source": [
    "#Ques1  Create a numpy array with 10 elements of the shape(10,1) using\n",
    "#  np.random and find out the mean of the elements using basic numpy functions.\n",
    "import numpy as np\n",
    "from random import *\n",
    "e = np.random.random((10,1))\n",
    "print(e)\n",
    "print(np.average(e))"
   ]
  },
  {
   "cell_type": "code",
   "execution_count": null,
   "metadata": {},
   "outputs": [],
   "source": [
    "#Ques2 Create a numpy array with 20 elements of the shape(20,1)\n",
    "#  using np.random find the variance and standard deviation of the elements.\n",
    "d = np.random.random((20,1))\n",
    "print(np.var(d))\n",
    "print(np.std(d))"
   ]
  },
  {
   "cell_type": "code",
   "execution_count": null,
   "metadata": {},
   "outputs": [],
   "source": [
    "\n",
    "#Ques3 Create a numpy array A of shape(10,20) and B of shape (20,25) using np.random.\n",
    "#  Print the matrix which is the matrix multiplication of A and B. The shape of the new matrix\n",
    "# should be (10,25). Using basic numpy math functions only find the sum of all the elements of the new matrix.\n",
    "x = np.random.random((10,20))\n",
    "y = np.random.random((20,25))\n",
    "z=np.dot(x,y)\n",
    "print(z)\n",
    "print(np.shape(z))\n",
    "print(np.sum(z))"
   ]
  },
  {
   "cell_type": "code",
   "execution_count": null,
   "metadata": {},
   "outputs": [],
   "source": [
    "\n",
    "#QUES4 Create a numpy array A of shape(10,1).Using the basic operations of the numpy array\n",
    "#  generate an array of shape(10,1) such that each element is the following function applied on each element of A. \n",
    "#f(x)=1 / (1 + exp(-x))\n",
    "#Apply this function to each element of A and print the new array holding the value the function returns\n",
    "#Example:\n",
    "#a=[a1,a2,a3]\n",
    "#n(new array to be printed )=[ f(a1), f(a2), f(a3)]\n",
    "\n",
    "array1 = np.random.random((10,1))\n",
    "print(array1)\n",
    "fun = 1/(1+np.exp(-array1))\n",
    "print(fun)"
   ]
  }
 ],
 "metadata": {
  "kernelspec": {
   "display_name": "Python 2",
   "language": "python",
   "name": "python2"
  },
  "language_info": {
   "codemirror_mode": {
    "name": "ipython",
    "version": 2.0
   },
   "file_extension": ".py",
   "mimetype": "text/x-python",
   "name": "python",
   "nbconvert_exporter": "python",
   "pygments_lexer": "ipython2",
   "version": "2.7.6"
  }
 },
 "nbformat": 4,
 "nbformat_minor": 0
}